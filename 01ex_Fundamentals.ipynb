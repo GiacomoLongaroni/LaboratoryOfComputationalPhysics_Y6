{
 "cells": [
  {
   "cell_type": "markdown",
   "metadata": {},
   "source": [
    "1\\. Write the following as a list comprehension"
   ]
  },
  {
   "cell_type": "code",
   "execution_count": 1,
   "metadata": {},
   "outputs": [
    {
     "name": "stdout",
     "output_type": "stream",
     "text": [
      "[(0, 0), (0, 1), (0, 2), (0, 3), (1, 0), (1, 1), (1, 2), (1, 3), (2, 0), (2, 1), (2, 2), (2, 3)]\n",
      "[0, 4, 16]\n"
     ]
    }
   ],
   "source": [
    "# 1\n",
    "ans = []\n",
    "for i in range(3):\n",
    "    for j in range(4):\n",
    "        ans.append((i, j))\n",
    "print (ans)\n",
    "\n",
    "# 2\n",
    "ans = map(lambda x: x*x, filter(lambda x: x%2 == 0, range(5)))\n",
    "print (list(ans))\n",
    "\n"
   ]
  },
  {
   "cell_type": "code",
   "execution_count": 2,
   "metadata": {},
   "outputs": [
    {
     "name": "stdout",
     "output_type": "stream",
     "text": [
      "[(0, 0), (0, 1), (0, 2), (0, 3), (1, 0), (1, 1), (1, 2), (1, 3), (2, 0), (2, 1), (2, 2), (2, 3)]\n",
      "[0, 4, 16]\n"
     ]
    }
   ],
   "source": [
    "#ex 1)\n",
    "#same as a list comprehension\n",
    "ans = [(i,j)for i in range(3) for j in range(4)]\n",
    "print(ans)\n",
    "\n",
    "ans = [x*x for x in range(5) if x % 2 == 0]\n",
    "print(ans)"
   ]
  },
  {
   "cell_type": "markdown",
   "metadata": {},
   "source": [
    "2\\. Convert the following function into a pure function with no global variables or side effects"
   ]
  },
  {
   "cell_type": "code",
   "execution_count": 3,
   "metadata": {},
   "outputs": [
    {
     "name": "stdout",
     "output_type": "stream",
     "text": [
      "[1, 2, 3, 0, 1, 2, 3, 4]\n",
      "[1, 2, 3, 0, 1, 2, 3, 4]\n"
     ]
    }
   ],
   "source": [
    "x = 5\n",
    "def f(alist):\n",
    "    for i in range(x):\n",
    "         alist.append(i)\n",
    "    return alist\n",
    "\n",
    "alist = [1,2,3]\n",
    "ans = f(alist)\n",
    "print (ans)\n",
    "print (alist) # alist has been changed!"
   ]
  },
  {
   "cell_type": "code",
   "execution_count": 4,
   "metadata": {},
   "outputs": [
    {
     "name": "stdout",
     "output_type": "stream",
     "text": [
      "Original list  [1, 2, 3]\n",
      "Modified list [1, 2, 3, 0, 1, 2, 3, 4]\n"
     ]
    }
   ],
   "source": [
    "def f(alist):\n",
    "    x = 5 \n",
    "    alist_copy = alist.copy()          #copy the list whithout changing it \n",
    "    for i in range(x):\n",
    "        alist_copy.append(i)\n",
    "    \n",
    "    return alist_copy\n",
    "\n",
    "alist = [1,2,3]\n",
    "ans = f(alist)\n",
    "\n",
    "\n",
    "print('Original list ',alist)\n",
    "print('Modified list', ans)    \n",
    "    "
   ]
  },
  {
   "cell_type": "markdown",
   "metadata": {},
   "source": [
    "3\\. Write a `decorator` hello that makes every wrapped function print “Hello!”, i.e. something like:\n",
    "\n",
    "```python\n",
    "@hello\n",
    "def square(x):\n",
    "    return x*x\n",
    "```\n",
    "\n"
   ]
  },
  {
   "cell_type": "code",
   "execution_count": 5,
   "metadata": {},
   "outputs": [
    {
     "name": "stdout",
     "output_type": "stream",
     "text": [
      "hello square!!\n",
      "4\n",
      "bye bye square!!\n"
     ]
    }
   ],
   "source": [
    "#defining and using  decorator \n",
    "def hello_decorator(func):\n",
    "    def wrapper(x):\n",
    "        print('hello square!!')\n",
    "        func(x)\n",
    "        print('bye bye square!!')\n",
    "    return wrapper\n",
    "\n",
    "@hello_decorator\n",
    "def square(x):\n",
    "    return print(x*x)\n",
    "\n",
    "x = 2\n",
    "square(x)"
   ]
  },
  {
   "cell_type": "markdown",
   "metadata": {},
   "source": [
    "4\\. Write the factorial function so that it a) does and b) does not use recursion."
   ]
  },
  {
   "cell_type": "code",
   "execution_count": 34,
   "metadata": {},
   "outputs": [
    {
     "name": "stdout",
     "output_type": "stream",
     "text": [
      "Factorial of 5 without using recursion 120\n",
      "Factorial of 5 using recursion 120\n"
     ]
    }
   ],
   "source": [
    "#factorial using recursion \n",
    "def factorial(x):\n",
    "    fac = 1\n",
    "    for i in range(1,x+1):\n",
    "        fac = fac * i\n",
    "    return fac\n",
    "\n",
    "print('Factorial of 5 without using recursion', factorial(5))\n",
    "\n",
    "\n",
    "#factorial without using recursion \n",
    "def fact_with_recursion(n):\n",
    "    if n in [0, 1]:\n",
    "        return 1\n",
    "    else:\n",
    "        return n * fact_with_recursion(n-1)\n",
    "    \n",
    "print('Factorial of 5 using recursion', fact_with_recursion(5))"
   ]
  },
  {
   "cell_type": "markdown",
   "metadata": {},
   "source": [
    "5\\. Use HOFs (zip in particular) to compute the weight of a circle, a disk and a sphere, assuming different radii and different densities:\n",
    "\n",
    "```python\n",
    "densities = {\"Al\":[0.5,1,2],\"Fe\":[3,4,5],\"Pb\": [15,20,30]}\n",
    "radii = [1,2,3]\n",
    "```\n",
    "\n",
    "where the entries of the dictionary's values are the linear, superficial and volumetric densities of the materials respectively.\n",
    "\n",
    "In particular define a list of three lambda functions using a comprehension that computes the circumference, the area and the volume for a given radius.\n"
   ]
  },
  {
   "cell_type": "code",
   "execution_count": 21,
   "metadata": {},
   "outputs": [
    {
     "name": "stdout",
     "output_type": "stream",
     "text": [
      "Element,density,shape,radius,result\n",
      "\n",
      "('Al', 0.5, 'Circle', 1, 3.14)\n",
      "('Al', 1, 'Disk', 1, 3.14)\n",
      "('Al', 2, 'Sphere', 1, 8.38)\n",
      "('Al', 0.5, 'Circle', 2, 6.28)\n",
      "('Al', 1, 'Disk', 2, 12.57)\n",
      "('Al', 2, 'Sphere', 2, 67.02)\n",
      "('Al', 0.5, 'Circle', 3, 9.42)\n",
      "('Al', 1, 'Disk', 3, 28.27)\n",
      "('Al', 2, 'Sphere', 3, 226.19)\n",
      "('Fe', 3, 'Circle', 1, 18.85)\n",
      "('Fe', 4, 'Disk', 1, 12.57)\n",
      "('Fe', 5, 'Sphere', 1, 20.94)\n",
      "('Fe', 3, 'Circle', 2, 37.7)\n",
      "('Fe', 4, 'Disk', 2, 50.27)\n",
      "('Fe', 5, 'Sphere', 2, 167.55)\n",
      "('Fe', 3, 'Circle', 3, 56.55)\n",
      "('Fe', 4, 'Disk', 3, 113.1)\n",
      "('Fe', 5, 'Sphere', 3, 565.49)\n",
      "('Pb', 15, 'Circle', 1, 94.25)\n",
      "('Pb', 20, 'Disk', 1, 62.83)\n",
      "('Pb', 30, 'Sphere', 1, 125.66)\n",
      "('Pb', 15, 'Circle', 2, 188.5)\n",
      "('Pb', 20, 'Disk', 2, 251.33)\n",
      "('Pb', 30, 'Sphere', 2, 1005.31)\n",
      "('Pb', 15, 'Circle', 3, 282.74)\n",
      "('Pb', 20, 'Disk', 3, 565.49)\n",
      "('Pb', 30, 'Sphere', 3, 3392.92)\n"
     ]
    }
   ],
   "source": [
    "from math import pi\n",
    "\n",
    "#creating list of lambda \n",
    "geom_func = [lambda r: 2*r*pi, lambda r: r*r*pi, lambda r: 4*pi*(r**3)/3]\n",
    "#dictionary for densities\n",
    "densities = {\"Al\":[0.5,1,2],\"Fe\":[3,4,5],\"Pb\": [15,20,30]}\n",
    "#list for radii\n",
    "radii = [1,2,3]\n",
    "shapes = [\"Circle\", \"Disk\", \"Sphere\"]\n",
    "\n",
    "results = [\n",
    "    (k,d,s,r,round(l(r) * d,2))\n",
    "    for k in densities\n",
    "    for r in radii\n",
    "    for d, l, s in zip(densities[k], geom_func, shapes)\n",
    "]\n",
    "\n",
    "print('Element,density,shape,radius,result\\n')\n",
    "for res in results:\n",
    "    print(res)\n"
   ]
  },
  {
   "cell_type": "markdown",
   "metadata": {},
   "source": [
    "6\\. Edit the class defintion to add an instance attribute of is_hungry = True to the Dog class. Then add a method called eat() which changes the value of is_hungry to False when called. Figure out the best way to feed each dog and then output “My dogs are hungry.” if all are hungry or “My dogs are not hungry.” if all are not hungry. The final output should look like this:\n",
    "\n",
    "`I have 3 dogs. \n",
    "Tom is 6. \n",
    "Fletcher is 7. \n",
    "Larry is 9. \n",
    "And they're all mammals, of course. \n",
    "My dogs are not hungry.\n",
    "`\n",
    "\n",
    "```python\n",
    "# Parent class\n",
    "class Dog:\n",
    "\n",
    "    # Class attribute\n",
    "    species = 'mammal'\n",
    "\n",
    "    # Initializer / Instance attributes\n",
    "    def __init__(self, name, age):\n",
    "        self.name = name\n",
    "        self.age = age\n",
    "\n",
    "    # instance method\n",
    "    def description(self):\n",
    "        return \"{} is {} years old\".format(self.name, self.age)\n",
    "\n",
    "    # instance method\n",
    "    def speak(self, sound):\n",
    "        return \"{} says {}\".format(self.name, sound)\n",
    "\n",
    "# Child class (inherits from Dog class)\n",
    "class RussellTerrier(Dog):\n",
    "    def run(self, speed):\n",
    "        return \"{} runs {}\".format(self.name, speed)\n",
    "\n",
    "# Child class (inherits from Dog class)\n",
    "class Bulldog(Dog):\n",
    "    def run(self, speed):\n",
    "        return \"{} runs {}\".format(self.name, speed)\n",
    "```"
   ]
  },
  {
   "cell_type": "code",
   "execution_count": 39,
   "metadata": {},
   "outputs": [],
   "source": [
    "# Parent class\n",
    "class Dog:\n",
    "\n",
    "    # Class attribute\n",
    "    species = 'mammal'\n",
    "\n",
    "    # Initializer / Instance attributes\n",
    "    def __init__(self, name, age, hungry:bool):\n",
    "        self.name = name\n",
    "        self.age = age\n",
    "        self.hungry = hungry\n",
    "\n",
    "    # instance method\n",
    "    def description(self):\n",
    "        return \"{} is {} years old\".format(self.name, self.age)\n",
    "\n",
    "    # instance method\n",
    "    def speak(self, sound):\n",
    "        return \"{} says {}\".format(self.name, sound)\n",
    "    \n",
    "\n",
    "    def eat(self, eat:bool):\n",
    "        self.hungry = eat \n",
    "        if self.hungry == True:\n",
    "            return print('My dog is  hungry')\n",
    "        else:\n",
    "            return print('My dog is Hungry')\n",
    "\n",
    "# Child class (inherits from Dog class)\n",
    "class RussellTerrier(Dog):\n",
    "    def run(self, speed):\n",
    "        return \"{} runs {}\".format(self.name, speed)\n",
    "\n",
    "# Child class (inherits from Dog class)\n",
    "class Bulldog(Dog):\n",
    "    def run(self, speed):\n",
    "        return \"{} runs {}\".format(self.name, speed)"
   ]
  },
  {
   "cell_type": "code",
   "execution_count": 40,
   "metadata": {},
   "outputs": [
    {
     "name": "stdout",
     "output_type": "stream",
     "text": [
      "My dog is not hungry\n",
      "My dog is  Hungry\n"
     ]
    }
   ],
   "source": [
    "cane = Dog('cane', 4, True )\n",
    "\n",
    "\n",
    "cane.eat(True)\n",
    "cane.eat(False)\n"
   ]
  },
  {
   "cell_type": "code",
   "execution_count": 41,
   "metadata": {},
   "outputs": [],
   "source": [
    "dog1 = Dog('Dog1', 1, False)\n",
    "dog2 = Dog('Dog2', 1, False)\n",
    "dog3 = Dog('Dog3', 1, False)\n",
    "\n",
    "if dog1.hungry == True:\n",
    "    dog1.eat(True)\n",
    "    "
   ]
  },
  {
   "cell_type": "code",
   "execution_count": null,
   "metadata": {},
   "outputs": [],
   "source": [
    "#done"
   ]
  }
 ],
 "metadata": {
  "kernelspec": {
   "display_name": "Python 3 (ipykernel)",
   "language": "python",
   "name": "python3"
  },
  "language_info": {
   "codemirror_mode": {
    "name": "ipython",
    "version": 3
   },
   "file_extension": ".py",
   "mimetype": "text/x-python",
   "name": "python",
   "nbconvert_exporter": "python",
   "pygments_lexer": "ipython3",
   "version": "3.9.12"
  }
 },
 "nbformat": 4,
 "nbformat_minor": 2
}
