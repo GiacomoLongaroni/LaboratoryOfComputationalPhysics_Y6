{
 "cells": [
  {
   "cell_type": "markdown",
   "metadata": {},
   "source": [
    "1. The MickeyMouse problem\n",
    "\n",
    "a) Write a program that prints the numbers from 1 to 100. But for multiples of 3 print `Mickey` instead of the corresponding number and for the multiples of 5 print `Mouse`. For numbers which are multiples of both three and five print `MickeyMouse`\n",
    "\n",
    "b) Put the result in a tuple and substitute `Mickey` with `Donald` and `Mouse` with `Duck`"
   ]
  },
  {
   "cell_type": "code",
   "execution_count": 1,
   "metadata": {},
   "outputs": [
    {
     "name": "stdout",
     "output_type": "stream",
     "text": [
      "Mikey Mouse\n",
      "1\n",
      "2\n",
      "Mikey\n",
      "4\n",
      "Mouse\n",
      "Mikey\n",
      "7\n",
      "8\n",
      "Mikey\n",
      "Mouse\n",
      "11\n",
      "Mikey\n",
      "13\n",
      "14\n",
      "Mikey Mouse\n",
      "16\n",
      "17\n",
      "Mikey\n",
      "19\n",
      "Mouse\n",
      "Mikey\n",
      "22\n",
      "23\n",
      "Mikey\n",
      "Mouse\n",
      "26\n",
      "Mikey\n",
      "28\n",
      "29\n",
      "Mikey Mouse\n",
      "31\n",
      "32\n",
      "Mikey\n",
      "34\n",
      "Mouse\n",
      "Mikey\n",
      "37\n",
      "38\n",
      "Mikey\n",
      "Mouse\n",
      "41\n",
      "Mikey\n",
      "43\n",
      "44\n",
      "Mikey Mouse\n",
      "46\n",
      "47\n",
      "Mikey\n",
      "49\n",
      "Mouse\n",
      "Mikey\n",
      "52\n",
      "53\n",
      "Mikey\n",
      "Mouse\n",
      "56\n",
      "Mikey\n",
      "58\n",
      "59\n",
      "Mikey Mouse\n",
      "61\n",
      "62\n",
      "Mikey\n",
      "64\n",
      "Mouse\n",
      "Mikey\n",
      "67\n",
      "68\n",
      "Mikey\n",
      "Mouse\n",
      "71\n",
      "Mikey\n",
      "73\n",
      "74\n",
      "Mikey Mouse\n",
      "76\n",
      "77\n",
      "Mikey\n",
      "79\n",
      "Mouse\n",
      "Mikey\n",
      "82\n",
      "83\n",
      "Mikey\n",
      "Mouse\n",
      "86\n",
      "Mikey\n",
      "88\n",
      "89\n",
      "Mikey Mouse\n",
      "91\n",
      "92\n",
      "Mikey\n",
      "94\n",
      "Mouse\n",
      "Mikey\n",
      "97\n",
      "98\n",
      "Mikey\n",
      "Mouse\n"
     ]
    }
   ],
   "source": [
    "#ex 1a)\n",
    "N = 100\n",
    "for n in range(N+1):\n",
    "    if n % 15 == 0:\n",
    "        print('Mikey Mouse')\n",
    "    elif n % 3 == 0:\n",
    "        print('Mikey')\n",
    "    elif n % 5 == 0:\n",
    "        print('Mouse') \n",
    "    else:\n",
    "        print(n)"
   ]
  },
  {
   "cell_type": "code",
   "execution_count": 2,
   "metadata": {},
   "outputs": [
    {
     "name": "stdout",
     "output_type": "stream",
     "text": [
      "Before mod:\n",
      " <class 'list'> \n",
      " ['Mikey Mouse', 1, 2, 'Mikey', 4, 'Mouse', 'Mikey', 7, 8, 'Mikey', 'Mouse', 11, 'Mikey', 13, 14, 'Mikey Mouse', 16, 17, 'Mikey', 19, 'Mouse', 'Mikey', 22, 23, 'Mikey', 'Mouse', 26, 'Mikey', 28, 29, 'Mikey Mouse', 31, 32, 'Mikey', 34, 'Mouse', 'Mikey', 37, 38, 'Mikey', 'Mouse', 41, 'Mikey', 43, 44, 'Mikey Mouse', 46, 47, 'Mikey', 49, 'Mouse', 'Mikey', 52, 53, 'Mikey', 'Mouse', 56, 'Mikey', 58, 59, 'Mikey Mouse', 61, 62, 'Mikey', 64, 'Mouse', 'Mikey', 67, 68, 'Mikey', 'Mouse', 71, 'Mikey', 73, 74, 'Mikey Mouse', 76, 77, 'Mikey', 79, 'Mouse', 'Mikey', 82, 83, 'Mikey', 'Mouse', 86, 'Mikey', 88, 89, 'Mikey Mouse', 91, 92, 'Mikey', 94, 'Mouse', 'Mikey', 97, 98, 'Mikey', 'Mouse']\n",
      "After mod:\n",
      " <class 'tuple'> \n",
      " ('Donald Duck', 1, 2, 'Donald', 4, 'Duck', 'Donald', 7, 8, 'Donald', 'Duck', 11, 'Donald', 13, 14, 'Donald Duck', 16, 17, 'Donald', 19, 'Duck', 'Donald', 22, 23, 'Donald', 'Duck', 26, 'Donald', 28, 29, 'Donald Duck', 31, 32, 'Donald', 34, 'Duck', 'Donald', 37, 38, 'Donald', 'Duck', 41, 'Donald', 43, 44, 'Donald Duck', 46, 47, 'Donald', 49, 'Duck', 'Donald', 52, 53, 'Donald', 'Duck', 56, 'Donald', 58, 59, 'Donald Duck', 61, 62, 'Donald', 64, 'Duck', 'Donald', 67, 68, 'Donald', 'Duck', 71, 'Donald', 73, 74, 'Donald Duck', 76, 77, 'Donald', 79, 'Duck', 'Donald', 82, 83, 'Donald', 'Duck', 86, 'Donald', 88, 89, 'Donald Duck', 91, 92, 'Donald', 94, 'Duck', 'Donald', 97, 98, 'Donald', 'Duck')\n"
     ]
    }
   ],
   "source": [
    "#ex 1b)\n",
    "N = 100\n",
    "Disney = []\n",
    "\n",
    "for n in range(N+1):\n",
    "    if n % 15 == 0:\n",
    "        Disney.append('Mikey Mouse')\n",
    "    elif n % 3 == 0:\n",
    "        Disney.append('Mikey')\n",
    "    elif n % 5 == 0:\n",
    "        Disney.append('Mouse') \n",
    "    else:\n",
    "        Disney.append(n)\n",
    "\n",
    "print('Before mod:\\n',type(Disney),'\\n', Disney)\n",
    "\n",
    "for d in range(N+1):\n",
    "    if Disney[d] == 'Mikey':\n",
    "        Disney[d] = 'Donald'\n",
    "    elif Disney[d] == 'Mouse':\n",
    "        Disney[d] = 'Duck'\n",
    "    elif Disney[d] == 'Mikey Mouse':\n",
    "        Disney[d] = 'Donald Duck'\n",
    "    else:\n",
    "        None\n",
    "\n",
    "Disney = tuple(Disney)\n",
    "print('After mod:\\n', type(Disney), '\\n', Disney)\n",
    "\n"
   ]
  },
  {
   "cell_type": "markdown",
   "metadata": {},
   "source": [
    "2\\. The swap function\n",
    "\n",
    "Write a function that swap the values of two input variables x and y (whatever the type). Try to do that also without a temporary variable"
   ]
  },
  {
   "cell_type": "code",
   "execution_count": 3,
   "metadata": {},
   "outputs": [
    {
     "name": "stdout",
     "output_type": "stream",
     "text": [
      "three 3\n"
     ]
    }
   ],
   "source": [
    "#ex 2)\n",
    "def swap(x,y):\n",
    "    return y , x\n",
    "\n",
    "a, b = swap(3,'three')\n",
    "print(a,b)"
   ]
  },
  {
   "cell_type": "markdown",
   "metadata": {},
   "source": [
    "3\\. Computing the distance\n",
    "\n",
    "Write a function that calculates and returns the euclidean distance between two points *u* and *v*, where *u* and *v* are both 2-tuples *(x,y)*. For example, if *u=(3,0)* and *v=(0,4)*, the function should return 5"
   ]
  },
  {
   "cell_type": "code",
   "execution_count": 4,
   "metadata": {},
   "outputs": [
    {
     "name": "stdout",
     "output_type": "stream",
     "text": [
      "Distance from (0, 4) to (3, 0) \n",
      " 5.0\n"
     ]
    }
   ],
   "source": [
    "#ex 3)\n",
    "def tup_dist(u:tuple,v:tuple):\n",
    "    norm_sq = 0 \n",
    "    for i in range(len(u)):\n",
    "        norm_sq = norm_sq + (u[i] - v[i])**2\n",
    "    return (norm_sq)**0.5\n",
    "\n",
    "u = (0,4)\n",
    "v = (3,0)\n",
    "dist = tup_dist(u,v)\n",
    "print('Distance from', u,'to', v, '\\n', dist)"
   ]
  },
  {
   "cell_type": "markdown",
   "metadata": {},
   "source": [
    "4\\. Counting letters\n",
    "\n",
    "Write a program to calculate the number of times each character occurs in a given string *s*. Ignore differneces in capitalization"
   ]
  },
  {
   "cell_type": "code",
   "execution_count": 5,
   "metadata": {},
   "outputs": [
    {
     "name": "stdout",
     "output_type": "stream",
     "text": [
      "Numbers of unique chars:  26\n"
     ]
    }
   ],
   "source": [
    "#ex 4)\n",
    "str = \"Write a program that prints the numbers from 1 to 100. \\\n",
    "But for multiples of three print Mickey instead of the number and for the multiples of five print Mouse. \\\n",
    "For numbers which are multiples of both three and five print MickeyMouse\"\n",
    "\n",
    "#lowering all chars\n",
    "str = str.lower()\n",
    "#creating a set to store unique char\n",
    "unique_dict = {}\n",
    "\n",
    "for s in str:\n",
    "    if s in unique_dict:        #checking if char already existing otherwise adding in the set \n",
    "        unique_dict[s] += 1     \n",
    "    else:\n",
    "        unique_dict[s] = 1      \n",
    "\n",
    "print('Numbers of unique chars: ', len(unique_dict))\n"
   ]
  },
  {
   "cell_type": "markdown",
   "metadata": {},
   "source": [
    "5\\. Isolating the unique\n",
    "\n",
    "Write a function that determines and count the unique numbers in the list *l*"
   ]
  },
  {
   "cell_type": "code",
   "execution_count": 6,
   "metadata": {},
   "outputs": [
    {
     "name": "stdout",
     "output_type": "stream",
     "text": [
      "[36, 45, 58, 3, 74, 96, 64, 31, 10, 24, 19, 33, 86, 99, 18, 63, 70, 85, 47, 56, 42, 84, 88, 55, 20, 54, 8, 51, 79, 81, 57, 37, 91, 1, 66, 9, 89, 50, 95, 90, 98, 39, 16, 82, 92, 41, 30, 34, 94, 5, 72, 87, 75, 53]\n",
      "54\n"
     ]
    }
   ],
   "source": [
    "#ex 5)\n",
    "lis = [36, 45, 58, 3, 74, 96, 64, 45, 31, 10, 24, 19, 33, 86, 99, 18, 63, 70, 85,\n",
    " 85, 63, 47, 56, 42, 70, 84, 88, 55, 20, 54, 8, 56, 51, 79, 81, 57, 37, 91,\n",
    " 1, 84, 84, 36, 66, 9, 89, 50, 42, 91, 50, 95, 90, 98, 39, 16, 82, 31, 92, 41,\n",
    " 45, 30, 66, 70, 34, 85, 94, 5, 3, 36, 72, 91, 84, 34, 87, 75, 53, 51, 20, 89, 51, 20]\n",
    "\n",
    "#creating a list to save the unique values\n",
    "unique_list = []\n",
    "\n",
    "for l in lis:\n",
    "    if l in unique_list:      #checking if val already existing otherwise adding in the list \n",
    "      None\n",
    "    else:\n",
    "       unique_list.append(l) \n",
    "\n",
    "\n",
    "print(unique_list)\n",
    "print(len(unique_list))\n"
   ]
  },
  {
   "cell_type": "markdown",
   "metadata": {},
   "source": [
    "6\\. Combination of functions\n",
    "\n",
    "Write two functions - one that returns the square of a number, and one that returns the cube. Now write a third function that returns the number raised to the 6th power using the two previous functions."
   ]
  },
  {
   "cell_type": "code",
   "execution_count": 7,
   "metadata": {},
   "outputs": [
    {
     "name": "stdout",
     "output_type": "stream",
     "text": [
      "Two to the power of\n",
      "two 4\n",
      "three 8\n",
      "six 64\n"
     ]
    }
   ],
   "source": [
    "#ex 6)\n",
    "def pow_two(x):\n",
    "    return x**2\n",
    "\n",
    "def pow_three(x):\n",
    "    return x**3\n",
    "\n",
    "def pow_six(x):\n",
    "    return pow_three(pow_two(x))\n",
    "\n",
    "print('Two to the power of')\n",
    "print('two',pow_two(2))\n",
    "print('three',pow_three(2))\n",
    "print('six', pow_six(2))\n"
   ]
  },
  {
   "cell_type": "markdown",
   "metadata": {},
   "source": [
    "7\\. Cubes\n",
    "\n",
    "Create a list of the cubes of x for x in *[0, 10]* using:\n",
    "\n",
    "a) a for loop\n",
    "\n",
    "b) a list comprehension"
   ]
  },
  {
   "cell_type": "code",
   "execution_count": 8,
   "metadata": {},
   "outputs": [
    {
     "name": "stdout",
     "output_type": "stream",
     "text": [
      "Cube with for loops [0, 1, 8, 27, 64, 125, 216, 343, 512, 729, 1000]\n",
      "Cube with list of comprehension [0, 1, 8, 27, 64, 125, 216, 343, 512, 729, 1000]\n"
     ]
    }
   ],
   "source": [
    "#ex 7a)\n",
    "cube = []\n",
    "\n",
    "for x in range(10+1):\n",
    "    cube.append(pow_three(x))\n",
    "print('Cube with for loops', cube)\n",
    "\n",
    "#ex 7b)\n",
    "cube = [pow_three(x) for x in range(10+1)]\n",
    "print('Cube with list of comprehension', cube)"
   ]
  },
  {
   "cell_type": "markdown",
   "metadata": {},
   "source": [
    "8\\. Nested list comprehension\n",
    "\n",
    "A Pythagorean triple is an integer solution to the Pythagorean theorem $a^2+b^2=c^2$. The first Pythagorean triple is (3,4,5). Find and put in a tuple all unique Pythagorean triples for the positive integers a, b and c less than 100."
   ]
  },
  {
   "cell_type": "code",
   "execution_count": 9,
   "metadata": {},
   "outputs": [
    {
     "name": "stdout",
     "output_type": "stream",
     "text": [
      "Unique pitagoras triple\n",
      " [(3, 4, 5.0), (5, 12, 13.0), (6, 8, 10.0), (7, 24, 25.0), (8, 15, 17.0), (9, 12, 15.0), (9, 40, 41.0), (10, 24, 26.0), (11, 60, 61.0), (12, 16, 20.0), (12, 35, 37.0), (13, 84, 85.0), (14, 48, 50.0), (15, 20, 25.0), (15, 36, 39.0), (16, 30, 34.0), (16, 63, 65.0), (18, 24, 30.0), (18, 80, 82.0), (20, 21, 29.0), (20, 48, 52.0), (21, 28, 35.0), (21, 72, 75.0), (24, 32, 40.0), (24, 45, 51.0), (24, 70, 74.0), (25, 60, 65.0), (27, 36, 45.0), (28, 45, 53.0), (30, 40, 50.0), (30, 72, 78.0), (32, 60, 68.0), (33, 44, 55.0), (33, 56, 65.0), (35, 84, 91.0), (36, 48, 60.0), (36, 77, 85.0), (39, 52, 65.0), (39, 80, 89.0), (40, 42, 58.0), (40, 75, 85.0), (42, 56, 70.0), (45, 60, 75.0), (48, 55, 73.0), (48, 64, 80.0), (51, 68, 85.0), (54, 72, 90.0), (57, 76, 95.0), (60, 63, 87.0), (65, 72, 97.0)]\n"
     ]
    }
   ],
   "source": [
    "#ex 8)      \n",
    "#                     creating tuple                  duble list of comprehension                                    if state \n",
    "unique_triple = [(a,b,(a**2 + b**2)**0.5) for a in range(1,100+1) for b in range (a,101) if (a**2 + b**2)**0.5 % 1 == 0 if (a**2 + b**2)**0.5 < 100]\n",
    "\n",
    "print('Unique pitagoras triple\\n',unique_triple)\n",
    " "
   ]
  },
  {
   "cell_type": "markdown",
   "metadata": {},
   "source": [
    "9\\. Normalization\n",
    "\n",
    "Write a function that takes a tuple of numbers and returns it with the entries normalized to one"
   ]
  },
  {
   "cell_type": "code",
   "execution_count": 23,
   "metadata": {},
   "outputs": [
    {
     "name": "stdout",
     "output_type": "stream",
     "text": [
      "Old tuple (1, 2, 3, 4)\n",
      "Normalized tuple (0.18257418583505536, 0.3651483716701107, 0.5477225575051661, 0.7302967433402214)\n"
     ]
    }
   ],
   "source": [
    "#ex 9)\n",
    "def normalized_tup(x:tuple):\n",
    "\n",
    "    x_list = list(x)\n",
    "    norm = 0\n",
    "\n",
    "    for i in range(len(x)):\n",
    "        norm += x_list[i]**2\n",
    "    \n",
    "    norm = norm**0.5\n",
    "\n",
    "    for i in range(len(x)): \n",
    "        x_list[i] = x_list[i]/ norm\n",
    "\n",
    "    return tuple(x_list)\n",
    "    \n",
    "tup = (1,2,3,4)\n",
    "nor_tup = normalized_tup(tup)\n",
    "\n",
    "print('Old tuple', tup)\n",
    "print('Normalized tuple', nor_tup)\n",
    "\n"
   ]
  },
  {
   "cell_type": "code",
   "execution_count": null,
   "metadata": {},
   "outputs": [],
   "source": [
    "#done"
   ]
  }
 ],
 "metadata": {
  "kernelspec": {
   "display_name": "Python 3 (ipykernel)",
   "language": "python",
   "name": "python3"
  },
  "language_info": {
   "codemirror_mode": {
    "name": "ipython",
    "version": 3
   },
   "file_extension": ".py",
   "mimetype": "text/x-python",
   "name": "python",
   "nbconvert_exporter": "python",
   "pygments_lexer": "ipython3",
   "version": "3.9.12"
  }
 },
 "nbformat": 4,
 "nbformat_minor": 2
}
