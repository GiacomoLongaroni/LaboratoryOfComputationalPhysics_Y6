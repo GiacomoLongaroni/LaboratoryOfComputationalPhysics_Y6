{
 "cells": [
  {
   "cell_type": "markdown",
   "metadata": {},
   "source": [
    "### Numpy basics"
   ]
  },
  {
   "cell_type": "code",
   "execution_count": 1,
   "metadata": {},
   "outputs": [],
   "source": [
    "import numpy as np"
   ]
  },
  {
   "cell_type": "markdown",
   "metadata": {},
   "source": [
    "1\\. Find the row, column and overall means for the following matrix:\n",
    "\n",
    "```python\n",
    "m = np.arange(12).reshape((3,4))\n",
    "```"
   ]
  },
  {
   "cell_type": "code",
   "execution_count": 12,
   "metadata": {},
   "outputs": [
    {
     "name": "stdout",
     "output_type": "stream",
     "text": [
      "matrix\n",
      " [[ 0  1  2  3]\n",
      " [ 4  5  6  7]\n",
      " [ 8  9 10 11]]\n",
      "\n",
      "Means on rows [1.5 5.5 9.5]\n",
      "Means on columns [4. 5. 6. 7.]\n",
      "<class 'numpy.ndarray'>\n"
     ]
    }
   ],
   "source": [
    "m = np.arange(12).reshape((3,4))\n",
    "\n",
    "print('matrix\\n',m)\n",
    "\n",
    "means_on_rows = m.mean(axis=1)\n",
    "means_on_column = m.mean(axis=0)\n",
    "\n",
    "print('\\nMeans on rows', means_on_rows)\n",
    "print('Means on columns', means_on_column)\n"
   ]
  },
  {
   "cell_type": "markdown",
   "metadata": {},
   "source": [
    "2\\. Find the outer product of the following two vecotrs\n",
    "\n",
    "```python\n",
    "u = np.array([1,3,5,7])\n",
    "v = np.array([2,4,6,8])\n",
    "```\n",
    "\n",
    "Do this in the following ways:\n",
    "\n",
    "   * Using the function outer in numpy\n",
    "   * Using a nested for loop or list comprehension\n",
    "   * Using numpy broadcasting operatoins\n"
   ]
  },
  {
   "cell_type": "code",
   "execution_count": 36,
   "metadata": {},
   "outputs": [
    {
     "name": "stdout",
     "output_type": "stream",
     "text": [
      "Outer product computed with built in function\n",
      " [[ 2  4  6  8]\n",
      " [ 4  8 12 16]\n",
      " [10 20 30 40]\n",
      " [14 28 42 56]]\n",
      "Outer product computed with loops\n",
      " [[ 2.  4.  6.  8.]\n",
      " [ 4.  8. 12. 16.]\n",
      " [10. 20. 30. 40.]\n",
      " [14. 28. 42. 56.]]\n",
      "Outer product computed with broadcasting\n",
      " [[ 2  4  6  8]\n",
      " [ 4  8 12 16]\n",
      " [10 20 30 40]\n",
      " [14 28 42 56]]\n"
     ]
    }
   ],
   "source": [
    "u = np.array([1,2,5,7])\n",
    "v = np.array([2,4,6,8])\n",
    "\n",
    "def looping_outer(x:np.ndarray,y:np.ndarray):\n",
    "    Matrix = np.zeros((x.shape[0], y.shape[0]))\n",
    "    \n",
    "    for i in range(Matrix.shape[0]):\n",
    "        for j in range(Matrix.shape[1]):\n",
    "            Matrix[i,j] = u[i]*v[j]\n",
    "    return Matrix\n",
    "\n",
    "def broadcasting_outer(x:np.ndarray, y:np.ndarray):\n",
    "\n",
    "    Matrix = x[:,np.newaxis] * y\n",
    "    return Matrix\n",
    "\n",
    "bi_outer = np.outer(u,v)\n",
    "loop_outer = looping_outer(u,v)\n",
    "br_outer = broadcasting_outer(u,v)\n",
    "\n",
    "print('Outer product computed with built in function\\n', bi_outer)\n",
    "print('Outer product computed with loops\\n',loop_outer)\n",
    "print('Outer product computed with broadcasting\\n',br_outer)\n",
    "\n"
   ]
  },
  {
   "cell_type": "markdown",
   "metadata": {},
   "source": [
    "3\\. Create a 10 by 6 matrix of random uniform numbers. Set all rows with any entry less than 0.1 to be zero\n",
    "\n",
    "Hint: Use the following numpy functions - np.random.random, np.any as well as Boolean indexing and the axis argument."
   ]
  },
  {
   "cell_type": "code",
   "execution_count": 62,
   "metadata": {},
   "outputs": [
    {
     "name": "stdout",
     "output_type": "stream",
     "text": [
      "Original matrix\n",
      " [[0.75758806 0.80789455 0.37553743 0.04911005 0.87740591 0.82264579\n",
      "  0.95742646 0.87890219 0.18731482 0.77848466]\n",
      " [0.83168646 0.94124806 0.4180001  0.50919215 0.45733319 0.71305603\n",
      "  0.11461706 0.14921793 0.37459534 0.35279622]\n",
      " [0.67953436 0.32469601 0.79885768 0.08938715 0.05666531 0.65656527\n",
      "  0.76076007 0.60374783 0.98150344 0.31732637]\n",
      " [0.69130414 0.380043   0.26790944 0.5811099  0.04932725 0.52757323\n",
      "  0.24556476 0.16262411 0.09075339 0.81168828]\n",
      " [0.61501435 0.1771112  0.82430766 0.12425482 0.44580348 0.02626091\n",
      "  0.60981789 0.08151286 0.43591217 0.76835456]\n",
      " [0.8158252  0.5514305  0.86224503 0.31278469 0.22330501 0.53489171\n",
      "  0.81730265 0.51524788 0.24994682 0.84037757]]\n",
      "\n",
      "Filter Matrix\n",
      " [[0.         0.         0.         0.         0.         0.\n",
      "  0.         0.         0.         0.        ]\n",
      " [0.83168646 0.94124806 0.4180001  0.50919215 0.45733319 0.71305603\n",
      "  0.11461706 0.14921793 0.37459534 0.35279622]\n",
      " [0.         0.         0.         0.         0.         0.\n",
      "  0.         0.         0.         0.        ]\n",
      " [0.         0.         0.         0.         0.         0.\n",
      "  0.         0.         0.         0.        ]\n",
      " [0.         0.         0.         0.         0.         0.\n",
      "  0.         0.         0.         0.        ]\n",
      " [0.8158252  0.5514305  0.86224503 0.31278469 0.22330501 0.53489171\n",
      "  0.81730265 0.51524788 0.24994682 0.84037757]]\n"
     ]
    }
   ],
   "source": [
    "rand_unif = np.random.uniform(size = (6,10))\n",
    "print('Original matrix\\n', rand_unif)\n",
    "\n",
    "filter = np.any(rand_unif, axis= 1, where = rand_unif <0.1) \n",
    "rand_unif[filter,:] = 0\n",
    "\n",
    "print('\\nFilter Matrix\\n', rand_unif)"
   ]
  },
  {
   "cell_type": "markdown",
   "metadata": {},
   "source": [
    "4\\. Use np.linspace to create an array of 100 numbers between 0 and 2π (includsive).\n",
    "\n",
    "  * Extract every 10th element using slice notation\n",
    "  * Reverse the array using slice notation\n",
    "  * Extract elements where the absolute difference between the sine and cosine functions evaluated at that element is less than 0.1\n",
    "  * Make a plot showing the sin and cos functions and indicate where they are close"
   ]
  },
  {
   "cell_type": "code",
   "execution_count": 110,
   "metadata": {},
   "outputs": [
    {
     "name": "stdout",
     "output_type": "stream",
     "text": [
      "Matrix theta\n",
      " [[0.         0.06346652 0.12693304 0.19039955 0.25386607 0.31733259\n",
      "  0.38079911 0.44426563 0.50773215 0.57119866]\n",
      " [0.63466518 0.6981317  0.76159822 0.82506474 0.88853126 0.95199777\n",
      "  1.01546429 1.07893081 1.14239733 1.20586385]\n",
      " [1.26933037 1.33279688 1.3962634  1.45972992 1.52319644 1.58666296\n",
      "  1.65012947 1.71359599 1.77706251 1.84052903]\n",
      " [1.90399555 1.96746207 2.03092858 2.0943951  2.15786162 2.22132814\n",
      "  2.28479466 2.34826118 2.41172769 2.47519421]\n",
      " [2.53866073 2.60212725 2.66559377 2.72906028 2.7925268  2.85599332\n",
      "  2.91945984 2.98292636 3.04639288 3.10985939]\n",
      " [3.17332591 3.23679243 3.30025895 3.36372547 3.42719199 3.4906585\n",
      "  3.55412502 3.61759154 3.68105806 3.74452458]\n",
      " [3.8079911  3.87145761 3.93492413 3.99839065 4.06185717 4.12532369\n",
      "  4.1887902  4.25225672 4.31572324 4.37918976]\n",
      " [4.44265628 4.5061228  4.56958931 4.63305583 4.69652235 4.75998887\n",
      "  4.82345539 4.88692191 4.95038842 5.01385494]\n",
      " [5.07732146 5.14078798 5.2042545  5.26772102 5.33118753 5.39465405\n",
      "  5.45812057 5.52158709 5.58505361 5.64852012]\n",
      " [5.71198664 5.77545316 5.83891968 5.9023862  5.96585272 6.02931923\n",
      "  6.09278575 6.15625227 6.21971879 6.28318531]]\n",
      "\n",
      "theta sliced\n",
      " [0.57119866 1.20586385 1.84052903 2.47519421 3.10985939 3.74452458\n",
      " 4.37918976 5.01385494 5.64852012 6.28318531]\n"
     ]
    }
   ],
   "source": [
    "#4.1)\n",
    "theta = np.linspace(0,2*np.pi,100)\n",
    "theta = theta.reshape((10,10))\n",
    "theta_slice = theta[:,9]\n",
    "\n",
    "print('Matrix theta\\n', theta)\n",
    "print('\\ntheta sliced\\n', theta_slice)\n",
    "\n",
    "\n",
    "\n"
   ]
  },
  {
   "cell_type": "code",
   "execution_count": 108,
   "metadata": {},
   "outputs": [
    {
     "name": "stdout",
     "output_type": "stream",
     "text": [
      "\n",
      "theta reversed\n",
      " [[6.28318531 6.21971879 6.15625227 6.09278575 6.02931923 5.96585272\n",
      "  5.9023862  5.83891968 5.77545316 5.71198664]\n",
      " [5.64852012 5.58505361 5.52158709 5.45812057 5.39465405 5.33118753\n",
      "  5.26772102 5.2042545  5.14078798 5.07732146]\n",
      " [5.01385494 4.95038842 4.88692191 4.82345539 4.75998887 4.69652235\n",
      "  4.63305583 4.56958931 4.5061228  4.44265628]\n",
      " [4.37918976 4.31572324 4.25225672 4.1887902  4.12532369 4.06185717\n",
      "  3.99839065 3.93492413 3.87145761 3.8079911 ]\n",
      " [3.74452458 3.68105806 3.61759154 3.55412502 3.4906585  3.42719199\n",
      "  3.36372547 3.30025895 3.23679243 3.17332591]\n",
      " [3.10985939 3.04639288 2.98292636 2.91945984 2.85599332 2.7925268\n",
      "  2.72906028 2.66559377 2.60212725 2.53866073]\n",
      " [2.47519421 2.41172769 2.34826118 2.28479466 2.22132814 2.15786162\n",
      "  2.0943951  2.03092858 1.96746207 1.90399555]\n",
      " [1.84052903 1.77706251 1.71359599 1.65012947 1.58666296 1.52319644\n",
      "  1.45972992 1.3962634  1.33279688 1.26933037]\n",
      " [1.20586385 1.14239733 1.07893081 1.01546429 0.95199777 0.88853126\n",
      "  0.82506474 0.76159822 0.6981317  0.63466518]\n",
      " [0.57119866 0.50773215 0.44426563 0.38079911 0.31733259 0.25386607\n",
      "  0.19039955 0.12693304 0.06346652 0.        ]]\n"
     ]
    }
   ],
   "source": [
    "#4.2)\n",
    "theta_reversed = theta[::-1,::-1]\n",
    "print('theta reversed', theta_reversed)"
   ]
  },
  {
   "cell_type": "code",
   "execution_count": 114,
   "metadata": {},
   "outputs": [
    {
     "name": "stdout",
     "output_type": "stream",
     "text": [
      "Values of theta : sin(theta)-cos(theta) < 0.1\n",
      " [0.76159822 0.82506474 3.87145761 3.93492413]\n"
     ]
    }
   ],
   "source": [
    "#4.3)\n",
    "sin_cos = np.abs(np.sin(theta)-np.cos(theta))\n",
    "mask = (sin_cos < 0.1)\n",
    "\n",
    "print('Values of theta : sin(theta)-cos(theta) < 0.1\\n', theta[mask])\n"
   ]
  },
  {
   "cell_type": "code",
   "execution_count": 127,
   "metadata": {},
   "outputs": [
    {
     "data": {
      "text/plain": [
       "<matplotlib.legend.Legend at 0x7f8a2a5fde20>"
      ]
     },
     "execution_count": 127,
     "metadata": {},
     "output_type": "execute_result"
    },
    {
     "data": {
      "image/png": "[encoded data removed]",
      "text/plain": [
       "<Figure size 432x288 with 1 Axes>"
      ]
     },
     "metadata": {
      "needs_background": "light"
     },
     "output_type": "display_data"
    }
   ],
   "source": [
    "#4.4)\n",
    "import matplotlib\n",
    "from matplotlib import pyplot as plt\n",
    "\n",
    "theta = np.linspace(0,2*np.pi, 1000)\n",
    "sin_cos = np.abs(np.sin(theta)-np.cos(theta))\n",
    "\n",
    "fig = plt.figure()\n",
    "ax = plt.subplot()\n",
    "ax.plot(theta, np.sin(theta), label = 'sine')\n",
    "ax.plot(theta, np.cos(theta), label = 'cosine')\n",
    "ax.plot(theta, sin_cos, label = '|sine - cosine|')\n",
    "ax.set_xlabel('theta')\n",
    "ax.set_ylabel('functions')\n",
    "ax.grid()\n",
    "ax.legend()\n"
   ]
  },
  {
   "cell_type": "markdown",
   "metadata": {},
   "source": [
    "5\\. Create a matrix that shows the 10 by 10 multiplication table.\n",
    "\n",
    " * Find the trace of the matrix\n",
    " * Extract the anto-diagonal (this should be ```array([10, 18, 24, 28, 30, 30, 28, 24, 18, 10])```)\n",
    " * Extract the diagnoal offset by 1 upwards (this should be ```array([ 2,  6, 12, 20, 30, 42, 56, 72, 90])```)"
   ]
  },
  {
   "cell_type": "code",
   "execution_count": 168,
   "metadata": {},
   "outputs": [
    {
     "name": "stdout",
     "output_type": "stream",
     "text": [
      "Multiplication table\n",
      " [[  1   2   3   4   5   6   7   8   9  10]\n",
      " [  2   4   6   8  10  12  14  16  18  20]\n",
      " [  3   6   9  12  15  18  21  24  27  30]\n",
      " [  4   8  12  16  20  24  28  32  36  40]\n",
      " [  5  10  15  20  25  30  35  40  45  50]\n",
      " [  6  12  18  24  30  36  42  48  54  60]\n",
      " [  7  14  21  28  35  42  49  56  63  70]\n",
      " [  8  16  24  32  40  48  56  64  72  80]\n",
      " [  9  18  27  36  45  54  63  72  81  90]\n",
      " [ 10  20  30  40  50  60  70  80  90 100]]\n",
      "\n",
      "Trace:  385\n",
      "\n",
      "anti diagonal: [10 18 24 28 30 30 28 24 18 10]\n",
      "\n",
      "diagonal with offset: [ 2  6 12 20 30 42 56 72 90]\n"
     ]
    }
   ],
   "source": [
    "Multiplication = np.array( [(i*j) for i in range(1,11) for j in range(1,11)]).reshape(10,10)\n",
    "print('Multiplication table\\n', Multiplication)\n",
    "\n",
    "#5.1\n",
    "print('\\nTrace: ', Multiplication.trace())\n",
    "\n",
    "#5.2\n",
    "Reversed = Multiplication[::-1]\n",
    "print('\\nanti diagonal:',Reversed.diagonal())\n",
    "\n",
    "#5.3\n",
    "crop_Multiplication = Multiplication[1:11,0:10]\n",
    "print('\\ndiagonal with offset:', crop_Multiplication.diagonal())\n"
   ]
  },
  {
   "cell_type": "markdown",
   "metadata": {},
   "source": [
    "6\\. Use broadcasting to create a grid of distances\n",
    "\n",
    "Route 66 crosses the following cities in the US: Chicago, Springfield, Saint-Louis, Tulsa, Oklahoma City, Amarillo, Santa Fe, Albuquerque, Flagstaff, Los Angeles\n",
    "The corresponding positions in miles are: 0, 198, 303, 736, 871, 1175, 1475, 1544, 1913, 2448\n",
    "\n",
    "  * Construct a 2D grid of distances among each city along Route 66\n",
    "  * Convert that in km (those savages...)"
   ]
  },
  {
   "cell_type": "code",
   "execution_count": 186,
   "metadata": {},
   "outputs": [
    {
     "name": "stdout",
     "output_type": "stream",
     "text": [
      "Matrices of the miles distance between US cities: dist(i-city, j-city)\n",
      "  [[   0  198  303  736  871 1175 1475 1544 1913 2448]\n",
      " [ 198    0  105  538  673  977 1277 1346 1715 2250]\n",
      " [ 303  105    0  433  568  872 1172 1241 1610 2145]\n",
      " [ 736  538  433    0  135  439  739  808 1177 1712]\n",
      " [ 871  673  568  135    0  304  604  673 1042 1577]\n",
      " [1175  977  872  439  304    0  300  369  738 1273]\n",
      " [1475 1277 1172  739  604  300    0   69  438  973]\n",
      " [1544 1346 1241  808  673  369   69    0  369  904]\n",
      " [1913 1715 1610 1177 1042  738  438  369    0  535]\n",
      " [2448 2250 2145 1712 1577 1273  973  904  535    0]]\n",
      "\n",
      "Matrices of the miles distance between US cities: dist(i-city, j-city)\n",
      "  [[   0.  319.  488. 1185. 1402. 1892. 2375. 2486. 3080. 3941.]\n",
      " [ 319.    0.  169.  866. 1084. 1573. 2056. 2167. 2761. 3622.]\n",
      " [ 488.  169.    0.  697.  914. 1404. 1887. 1998. 2592. 3453.]\n",
      " [1185.  866.  697.    0.  217.  707. 1190. 1301. 1895. 2756.]\n",
      " [1402. 1084.  914.  217.    0.  489.  972. 1084. 1678. 2539.]\n",
      " [1892. 1573. 1404.  707.  489.    0.  483.  594. 1188. 2050.]\n",
      " [2375. 2056. 1887. 1190.  972.  483.    0.  111.  705. 1567.]\n",
      " [2486. 2167. 1998. 1301. 1084.  594.  111.    0.  594. 1455.]\n",
      " [3080. 2761. 2592. 1895. 1678. 1188.  705.  594.    0.  861.]\n",
      " [3941. 3622. 3453. 2756. 2539. 2050. 1567. 1455.  861.    0.]]\n"
     ]
    }
   ],
   "source": [
    "position = np.array([0, 198, 303, 736, 871, 1175, 1475, 1544, 1913, 2448])\n",
    "distances = np.abs(position[:,np.newaxis] - position)\n",
    "\n",
    "print('Matrices of the miles distance between US cities: dist(i-city, j-city)\\n ',distances)\n",
    "\n",
    "print('\\nMatrices of the miles distance between US cities: dist(i-city, j-city)\\n ',np.round(distances*1.61))\n",
    "\n",
    "\n"
   ]
  },
  {
   "cell_type": "markdown",
   "metadata": {},
   "source": [
    "7\\. Prime numbers sieve: compute the prime numbers in the 0-N (N=99 to start with) range with a sieve (mask).\n",
    "  * Constract a shape (100,) boolean array, the mask\n",
    "  * Identify the multiples of each number starting from 2 and set accordingly the corresponding mask element\n",
    "  * Apply the mask to obtain an array of ordered prime numbers\n",
    "  * Check the performances (timeit); how does it scale with N?\n",
    "  * Implement the optimization suggested in the [sieve of Eratosthenes](https://en.wikipedia.org/wiki/Sieve_of_Eratosthenes)"
   ]
  },
  {
   "cell_type": "code",
   "execution_count": 232,
   "metadata": {},
   "outputs": [
    {
     "name": "stdout",
     "output_type": "stream",
     "text": [
      "Prime numbers < 99\n",
      " [ 0  1  2  3  5  7 11 13 17 19 23 29 31 37 41 43 47 53 59 61 67 71 73 79\n",
      " 83 89 97]\n"
     ]
    }
   ],
   "source": [
    "#7.1 7.2 7.3 7.4\n",
    "\n",
    "def prime_mask(N):\n",
    "    mask = np.ones(N, dtype='bool')\n",
    "\n",
    "    for i in range(2,N):\n",
    "        for j in range(2,N):\n",
    "            if i*j < N:\n",
    "                mask[i*j] = False  \n",
    "    return mask \n",
    "\n",
    "\n",
    "n = 99\n",
    "mask =prime_mask(n)\n",
    "print('Prime numbers < 99\\n', np.arange(0,n,1)[mask])\n"
   ]
  },
  {
   "cell_type": "markdown",
   "metadata": {},
   "source": [
    "**N.B. the following exercises are meant to be solved only if you are familiar with the numpy random library. If not you can skip them (postponed for one of the next exercise sessions)**\n"
   ]
  },
  {
   "cell_type": "markdown",
   "metadata": {},
   "source": [
    "8\\. Diffusion using random walk\n",
    "\n",
    "Consider a simple random walk process: at each step in time, a walker jumps right or left (+1 or -1) with equal probability. The goal is to find the typical distance from the origin of a random walker after a given amount of time. \n",
    "To do that, let's simulate many walkers and create a 2D array with each walker as a raw and the actual time evolution as columns\n",
    "\n",
    "  * Take 1000 walkers and let them walk for 200 steps\n",
    "  * Use randint to create a 2D array of size walkers x steps with values -1 or 1\n",
    "  * Build the actual walking distances for each walker (i.e. another 2D array \"summing on each raw\")\n",
    "  * Take the square of that 2D array (elementwise)\n",
    "  * Compute the mean of the squared distances at each step (i.e. the mean along the columns)\n",
    "  * Plot the average distances (sqrt(distance\\*\\*2)) as a function of time (step)\n",
    "  \n",
    "Did you get what you expected?"
   ]
  },
  {
   "cell_type": "markdown",
   "metadata": {},
   "source": [
    "9\\. Analyze a data file \n",
    "  * Download the population of hares, lynxes and carrots at the beginning of the last century.\n",
    "    ```python\n",
    "    ! wget https://www.dropbox.com/s/3vigxoqayo389uc/populations.txt\n",
    "    ```\n",
    "\n",
    "  * Check the content by looking within the file\n",
    "  * Load the data (use an appropriate numpy method) into a 2D array\n",
    "  * Create arrays out of the columns, the arrays being (in order): *year*, *hares*, *lynxes*, *carrots* \n",
    "  * Plot the 3 populations over the years\n",
    "  * Compute the main statistical properties of the dataset (mean, std, correlations, etc.)\n",
    "  * Which species has the highest population each year?\n",
    "\n",
    "Do you feel there is some evident correlation here? [Studies](https://www.enr.gov.nt.ca/en/services/lynx/lynx-snowshoe-hare-cycle) tend to believe so."
   ]
  }
 ],
 "metadata": {
  "kernelspec": {
   "display_name": "Python 3 (ipykernel)",
   "language": "python",
   "name": "python3"
  },
  "language_info": {
   "codemirror_mode": {
    "name": "ipython",
    "version": 3
   },
   "file_extension": ".py",
   "mimetype": "text/x-python",
   "name": "python",
   "nbconvert_exporter": "python",
   "pygments_lexer": "ipython3",
   "version": "3.9.12"
  }
 },
 "nbformat": 4,
 "nbformat_minor": 2
}
